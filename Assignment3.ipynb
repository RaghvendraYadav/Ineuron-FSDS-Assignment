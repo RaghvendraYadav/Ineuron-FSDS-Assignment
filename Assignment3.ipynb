{
 "cells": [
  {
   "cell_type": "code",
   "execution_count": 1,
   "id": "9cabcc72",
   "metadata": {},
   "outputs": [
    {
     "data": {
      "text/plain": [
       "'1. Why are functions advantageous to have in your programs?\\nAns.\\nThe main advantage of function is that  it increase the reuseability of the code.\\nIncrease the readibility of code\\nMakes code modular\\nDivide Complex problem into simpleones\\nAvoid duplication of the code\\nReduces Program development time and cost\\n'"
      ]
     },
     "execution_count": 1,
     "metadata": {},
     "output_type": "execute_result"
    }
   ],
   "source": [
    "'''1. Why are functions advantageous to have in your programs?\n",
    "Ans.\n",
    "The main advantage of function is that  it increase the reuseability of the code.\n",
    "Increase the readibility of code\n",
    "Makes code modular\n",
    "Divide Complex problem into simpleones\n",
    "Avoid duplication of the code\n",
    "Reduces Program development time and cost\n",
    "'''"
   ]
  },
  {
   "cell_type": "code",
   "execution_count": 2,
   "id": "9c5b2dcc",
   "metadata": {},
   "outputs": [
    {
     "data": {
      "text/plain": [
       "'\\n2. When does the code in a function run: when it is specified or when its called?\\nAns The code inside the function runs only when it is called.\\n'"
      ]
     },
     "execution_count": 2,
     "metadata": {},
     "output_type": "execute_result"
    }
   ],
   "source": [
    "'''\n",
    "2. When does the code in a function run: when it is specified or when its called?\n",
    "Ans The code inside the function runs only when it is called.\n",
    "'''"
   ]
  },
  {
   "cell_type": "code",
   "execution_count": 3,
   "id": "9a2ed654",
   "metadata": {},
   "outputs": [
    {
     "data": {
      "text/plain": [
       "'\\n3. What statement creates a function?\\nAns  def keyboard with the name of the function create the function\\nfor eg:\\ndef function_name(arg1,arg2):\\n    return arg1+arg2\\nAbove it is process to create the function Name\\n'"
      ]
     },
     "execution_count": 3,
     "metadata": {},
     "output_type": "execute_result"
    }
   ],
   "source": [
    "'''\n",
    "3. What statement creates a function?\n",
    "Ans  def keyboard with the name of the function create the function\n",
    "for eg:\n",
    "def function_name(arg1,arg2):\n",
    "    return arg1+arg2\n",
    "Above it is process to create the function Name\n",
    "'''"
   ]
  },
  {
   "cell_type": "code",
   "execution_count": 4,
   "id": "799fd1f3",
   "metadata": {},
   "outputs": [
    {
     "data": {
      "text/plain": [
       "'\\n4. What is the difference between a function and a function call?\\nAns \\ndef function_name(arg1,arg2):\\n    return arg1+arg2\\n\\nAbove is the example to create a function\\nand when we are calling the function it is then only used\\nfor eg\\n\\nfunction_name(1,2)---- this is called function call\\n\\n'"
      ]
     },
     "execution_count": 4,
     "metadata": {},
     "output_type": "execute_result"
    }
   ],
   "source": [
    "'''\n",
    "4. What is the difference between a function and a function call?\n",
    "Ans \n",
    "def function_name(arg1,arg2):\n",
    "    return arg1+arg2\n",
    "\n",
    "Above is the example to create a function\n",
    "and when we are calling the function it is then only used\n",
    "for eg\n",
    "\n",
    "function_name(1,2)---- this is called function call\n",
    "\n",
    "'''"
   ]
  },
  {
   "cell_type": "code",
   "execution_count": 5,
   "id": "e1c8cd92",
   "metadata": {},
   "outputs": [
    {
     "data": {
      "text/plain": [
       "'\\n5. How many global scopes are there in a Python program? How many local scopes?\\n\\nAns\\nLocal variables are those which are initialized inside a function and belongs only to that particular function.\\nIt cannot be accessed anywhere outside the function.\\nThe global variables are those which are defined outside any function and which are accessible throughout the program\\ni.e. inside and outside of every function\\n\\n'"
      ]
     },
     "execution_count": 5,
     "metadata": {},
     "output_type": "execute_result"
    }
   ],
   "source": [
    "'''\n",
    "5. How many global scopes are there in a Python program? How many local scopes?\n",
    "\n",
    "Ans\n",
    "Local variables are those which are initialized inside a function and belongs only to that particular function.\n",
    "It cannot be accessed anywhere outside the function.\n",
    "The global variables are those which are defined outside any function and which are accessible throughout the program\n",
    "i.e. inside and outside of every function\n",
    "\n",
    "'''"
   ]
  },
  {
   "cell_type": "code",
   "execution_count": 6,
   "id": "3c6f0aa6",
   "metadata": {},
   "outputs": [
    {
     "data": {
      "text/plain": [
       "'\\nAns:- The local Scope of the variable is inside the function so when funcion returns the value it only returns the alue nt the \\nvariable .\\n\\n'"
      ]
     },
     "execution_count": 6,
     "metadata": {},
     "output_type": "execute_result"
    }
   ],
   "source": [
    "#6. What happens to variables in a local scope when the function call returns?\n",
    "'''\n",
    "Ans:- The local Scope of the variable is inside the function so when funcion returns the value it only returns the alue nt the \n",
    "variable .\n",
    "\n",
    "'''"
   ]
  },
  {
   "cell_type": "code",
   "execution_count": 8,
   "id": "f14c87f6",
   "metadata": {},
   "outputs": [
    {
     "data": {
      "text/plain": [
       "'In the above example we can clearly see that we can use expression with return'"
      ]
     },
     "execution_count": 8,
     "metadata": {},
     "output_type": "execute_result"
    }
   ],
   "source": [
    "#7. What is the concept of a return value? Is it possible to have a return value in an expression?\n",
    "'''\n",
    "Ans:- When we perform some task inside the function it give some output either it ill return nothing or give us output value which is \n",
    "return to the function from where it is called.If a function is called it will give us the ouptput .Output returnde from \n",
    "computatiob is return by function by return keyword.\n",
    "For eg:\n",
    "'''\n",
    "def f1(x1,x2):\n",
    "    return x1+x2 #here we   are returning the sum  or cancatenation of the two values \n",
    " \n",
    "\n",
    "f1(1,2)\n",
    "# this is function calling\n",
    "\n",
    "'''In the above example we can clearly see that we can use expression with return'''\n",
    "\n"
   ]
  },
  {
   "cell_type": "code",
   "execution_count": 9,
   "id": "1b3492bb",
   "metadata": {},
   "outputs": [],
   "source": [
    "#8. If a function does not have a return statement, what is the return value of a call to that function?\n",
    "\n",
    "#If a function doesnot have return statement it will return none"
   ]
  },
  {
   "cell_type": "code",
   "execution_count": 10,
   "id": "d06c7d4a",
   "metadata": {},
   "outputs": [
    {
     "data": {
      "text/plain": [
       "3"
      ]
     },
     "execution_count": 10,
     "metadata": {},
     "output_type": "execute_result"
    }
   ],
   "source": [
    "#9. How do you make a function variable refer to the global variable?\n",
    "'''\n",
    "  We can make a function variablr refer to the global variable by using global keyword with local variable name \n",
    "  for eg:\n",
    "  \n",
    "  def global_variable():\n",
    "    global v1\n",
    "    v1 = 'Bar'\n",
    "'''"
   ]
  },
  {
   "cell_type": "code",
   "execution_count": 11,
   "id": "551263f2",
   "metadata": {},
   "outputs": [
    {
     "data": {
      "text/plain": [
       "NoneType"
      ]
     },
     "execution_count": 11,
     "metadata": {},
     "output_type": "execute_result"
    }
   ],
   "source": [
    "#10. What is the data type of None?\n",
    "#Ans The data type of None is NoneType.\n"
   ]
  },
  {
   "cell_type": "code",
   "execution_count": 12,
   "id": "15e38806",
   "metadata": {},
   "outputs": [
    {
     "data": {
      "text/plain": [
       "'11. What does the sentence import areallyourpetsnamederic do?\\nAns It will import areallyouoetsnamederic module\\n\\n\\n\\n'"
      ]
     },
     "execution_count": 12,
     "metadata": {},
     "output_type": "execute_result"
    }
   ],
   "source": [
    "'''11. What does the sentence import areallyourpetsnamederic do?\n",
    "Ans It will import areallyouoetsnamederic module\n",
    "\n",
    "\n",
    "\n",
    "'''"
   ]
  },
  {
   "cell_type": "code",
   "execution_count": 13,
   "id": "d2dde907",
   "metadata": {},
   "outputs": [
    {
     "data": {
      "text/plain": [
       "'12. If you had a bacon() feature in a spam module, what would you call it after importing spam?\\nAns\\nimport spam\\nspam.bacon()\\n\\n'"
      ]
     },
     "execution_count": 13,
     "metadata": {},
     "output_type": "execute_result"
    }
   ],
   "source": [
    "'''12. If you had a bacon() feature in a spam module, what would you call it after importing spam?\n",
    "Ans\n",
    "import spam\n",
    "spam.bacon()\n",
    "\n",
    "'''"
   ]
  },
  {
   "cell_type": "code",
   "execution_count": 14,
   "id": "75ddf49a",
   "metadata": {},
   "outputs": [
    {
     "data": {
      "text/plain": [
       "'\\n13. What can you do to save a programme from crashing if it encounters an error?\\n\\nAns.  To save a programme from crashing if it encounters an error we will use try clause for the programme and except to print which error we\\nruntime error we are encountering'"
      ]
     },
     "execution_count": 14,
     "metadata": {},
     "output_type": "execute_result"
    }
   ],
   "source": [
    "'''\n",
    "13. What can you do to save a programme from crashing if it encounters an error?\n",
    "\n",
    "Ans.  To save a programme from crashing if it encounters an error we will use try clause for the programme and except to print which error we\n",
    "runtime error we are encountering'''"
   ]
  },
  {
   "cell_type": "code",
   "execution_count": null,
   "id": "2310ddde",
   "metadata": {},
   "outputs": [],
   "source": [
    "'''\n",
    "14. What is the purpose of the try clause? What is the purpose of the except clause?\n",
    "Ans Try clause doesnot stop the code from exectuion .If even we encounter runtime error it will handle the situtuion\n",
    "and pass it to except clause where except clause will help to print the error without interputing our program from execution.\n",
    "We use try and except clause so that theflow of execution of program is not break.\n",
    "\n",
    "'''"
   ]
  }
 ],
 "metadata": {
  "kernelspec": {
   "display_name": "Python 3",
   "language": "python",
   "name": "python3"
  },
  "language_info": {
   "codemirror_mode": {
    "name": "ipython",
    "version": 3
   },
   "file_extension": ".py",
   "mimetype": "text/x-python",
   "name": "python",
   "nbconvert_exporter": "python",
   "pygments_lexer": "ipython3",
   "version": "3.8.8"
  }
 },
 "nbformat": 4,
 "nbformat_minor": 5
}
