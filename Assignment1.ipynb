{
 "cells": [
  {
   "cell_type": "markdown",
   "id": "fc5d34a8",
   "metadata": {},
   "source": [
    "\n",
    "1. In the below elements which of them are values or an expression? eg:- values can be\n",
    "integer or string and expressions will be mathematical operators.\n",
    "*\n",
    "&#39;hello&#39;\n",
    "-87.8\n",
    "-\n",
    "/\n",
    "+\n",
    "Answer-\n",
    "     *                     -  Expression\n",
    "    'hello'               -  Values\n",
    "     -                     - Expression\n",
    "     -87.8                  -Values\n",
    "     /                      -Expression\n",
    "     +                       -Expression\n",
    "     6                        -Value\n",
    "    "
   ]
  },
  {
   "cell_type": "markdown",
   "id": "cd85de4a",
   "metadata": {},
   "source": [
    "Q2.What is the difference between string and variable?\n",
    "String is a collection of characters whereas Variable is name to refer the memory allocated to the value."
   ]
  },
  {
   "cell_type": "markdown",
   "id": "31ffe1bd",
   "metadata": {},
   "source": [
    "\n",
    "Q3  Describe three different data types.\n",
    "\n",
    "Ans 3.\n",
    "\n",
    "The Different Data Types  in Python :-\n",
    "    Numeric-  int float complex number\n",
    "    Boolean\n",
    "    Dictionary\n",
    "    Set\n",
    "    char\n",
    "    Sequences- 1. String 2. List 3. Tuple\n",
    "\n",
    "    \n",
    "    "
   ]
  },
  {
   "cell_type": "markdown",
   "id": "1e5d5afb",
   "metadata": {},
   "source": [
    "\n",
    "Q4- What is an expression made up of? What do all expressions do?\n",
    "Ans 4\n",
    "\n",
    "An expression is made up of variables,value, operators, and call to functions .\n",
    "\n",
    "There are many type of expressions \n",
    "1.Arithmetic Expressions-\n",
    "   +    Addition\n",
    "   -    Subtraction\n",
    "   *    Multiplication\n",
    "   /    Division\n",
    "   //   Quotient\n",
    "   %    Remainder\n",
    "   **   Exponential\n",
    "2.Relations Expression\n",
    ">=\n",
    "<=\n",
    "<\n",
    ">\n",
    "==\n",
    "!=\n",
    "3. Logical Expression \n",
    "And\n",
    "OR \n",
    "Not\n",
    "4 Bitwise Expression\n",
    "Bitwaie And(&)\n",
    "Bitwise XOR(^)\n",
    "Bitwise OR (|)\n",
    "etc\n",
    "\n",
    "\n"
   ]
  },
  {
   "cell_type": "markdown",
   "id": "9937240a",
   "metadata": {},
   "source": [
    "\n",
    "Q5    This assignment statements, like spam = 10. What is the difference between an\n",
    "expression and a statement?\n",
    "Ans 5 \n",
    "Expression-- It always evlautes to a value.Expression always return a result value\n",
    "Statement is an instruction that the interpreter can execute\n",
    "Statement create variable or displaying a value .Every statement is not an expression\n",
    "\n",
    "So in Spam =10 it is an expression and statement\n"
   ]
  },
  {
   "cell_type": "markdown",
   "id": "7295eedf",
   "metadata": {},
   "source": [
    "Q6--6. After running the following code, what does the variable bacon contain?\n",
    "bacon = 22\n",
    "bacon + 1\n",
    "\n",
    "Ans6---22\n",
    "\n",
    "\n",
    "\n"
   ]
  },
  {
   "cell_type": "markdown",
   "id": "b99e9728",
   "metadata": {},
   "source": [
    "Q7. What should the values of the following two terms be?\n",
    "'spam'+'spamspam'\n",
    "'spam' * 3\n",
    "Ans7- 'spamspamspam'\n",
    "    'spamspamspam'\n"
   ]
  },
  {
   "cell_type": "markdown",
   "id": "9418d35a",
   "metadata": {},
   "source": [
    "Q8. Why is eggs a valid variable name while 100 is invalid?\n",
    "Ans Variable name can only start with an alphabet and '_' .So Eggs is valid variable name where as 100 cannot be a variale name because variable name cannot start with numeric value"
   ]
  },
  {
   "cell_type": "markdown",
   "id": "bcfd32da",
   "metadata": {},
   "source": [
    "Q9. What three functions can be used to get the integer, floating-point number, or string version of a value?\n",
    "\n",
    "Ans9-The int() , float() , and str( ) functions will evaluate to the integer, floating-point number, and string versions of the value passed to them"
   ]
  },
  {
   "cell_type": "markdown",
   "id": "2ff06fbe",
   "metadata": {},
   "source": [
    "10. Why does this expression cause an error? How can you fix it?\n",
    "'I have eaten' + 99 +'burritos';\n",
    "Ans 10. Here we cannot concatenate numeric value with the String .So to over come this error we need to keep the numeric value inside '' or we need to change the datatype of 99 to string\n",
    "example:- 'I have eaten' + str(99) +'burritos'"
   ]
  },
  {
   "cell_type": "code",
   "execution_count": 13,
   "id": "d9c7977d",
   "metadata": {},
   "outputs": [
    {
     "data": {
      "text/plain": [
       "'I have eaten99burritos'"
      ]
     },
     "execution_count": 13,
     "metadata": {},
     "output_type": "execute_result"
    }
   ],
   "source": [
    "'I have eaten' + str(99) +'burritos'"
   ]
  },
  {
   "cell_type": "code",
   "execution_count": null,
   "id": "09a18cb0",
   "metadata": {},
   "outputs": [],
   "source": []
  }
 ],
 "metadata": {
  "kernelspec": {
   "display_name": "Python 3",
   "language": "python",
   "name": "python3"
  },
  "language_info": {
   "codemirror_mode": {
    "name": "ipython",
    "version": 3
   },
   "file_extension": ".py",
   "mimetype": "text/x-python",
   "name": "python",
   "nbconvert_exporter": "python",
   "pygments_lexer": "ipython3",
   "version": "3.8.8"
  }
 },
 "nbformat": 4,
 "nbformat_minor": 5
}
