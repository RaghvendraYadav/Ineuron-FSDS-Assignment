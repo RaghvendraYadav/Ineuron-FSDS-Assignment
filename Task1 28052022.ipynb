{
 "cells": [
  {
   "cell_type": "code",
   "execution_count": 2,
   "id": "7a406eb5",
   "metadata": {},
   "outputs": [
    {
     "name": "stdout",
     "output_type": "stream",
     "text": [
      "            Ineuron  \n",
      "         Ineuron  Ineuron  \n",
      "      Ineuron  Ineuron  Ineuron  \n",
      "   Ineuron  Ineuron  Ineuron  Ineuron  \n",
      "Ineuron  Ineuron  Ineuron  Ineuron  Ineuron  \n",
      "   Ineuron  Ineuron  Ineuron  Ineuron  \n",
      "      Ineuron  Ineuron  Ineuron  \n",
      "         Ineuron  Ineuron  \n",
      "            Ineuron  \n",
      "               \n"
     ]
    }
   ],
   "source": [
    "n=5\n",
    "k=n\n",
    "p=0\n",
    "for i in range(n):\n",
    "    k=k-1\n",
    "    print('   '*k,end='')\n",
    "    for j in range(i+1):\n",
    "        print('Ineuron  ',end='')\n",
    "    print()    \n",
    "for i in range(n-1,-1,-1):\n",
    "    p=p+1\n",
    "    print('   '*p,end='')\n",
    "    for j in range(i):\n",
    "        print('Ineuron  ',end='')\n",
    "    print()\n",
    "        "
   ]
  },
  {
   "cell_type": "code",
   "execution_count": 3,
   "id": "54f286e2",
   "metadata": {},
   "outputs": [],
   "source": [
    "l=[[1,2,3,4],(2,3,4,5,6),(3,4,5,6,7),set([23,4,5,45,4,4,5,45,45,4,5]),{'k1':'sudh','k2':'ineuron','k3':'kumar',3:6,7:8},['ineuron','data science']]"
   ]
  },
  {
   "cell_type": "code",
   "execution_count": 4,
   "id": "47156eee",
   "metadata": {},
   "outputs": [
    {
     "name": "stdout",
     "output_type": "stream",
     "text": [
      "1\n",
      "2\n",
      "3\n",
      "4\n",
      "ineuron\n",
      "data science\n"
     ]
    }
   ],
   "source": [
    "# try to extrat all the lst in entity\n",
    "for i in l:\n",
    "    if type(i)==list:\n",
    "        for j in i:\n",
    "            print(j)"
   ]
  },
  {
   "cell_type": "code",
   "execution_count": 6,
   "id": "cbca6e54",
   "metadata": {},
   "outputs": [
    {
     "name": "stdout",
     "output_type": "stream",
     "text": [
      "dict_items([('k1', 'sudh'), ('k2', 'ineuron'), ('k3', 'kumar'), (3, 6), (7, 8)])\n"
     ]
    }
   ],
   "source": [
    "#try to extract all the dict entities\n",
    "for i in l:\n",
    "    if type(i)==dict:\n",
    "        print(i.items())"
   ]
  },
  {
   "cell_type": "code",
   "execution_count": 7,
   "id": "4f91a374",
   "metadata": {},
   "outputs": [
    {
     "name": "stdout",
     "output_type": "stream",
     "text": [
      "2\n",
      "3\n",
      "4\n",
      "5\n",
      "6\n",
      "3\n",
      "4\n",
      "5\n",
      "6\n",
      "7\n"
     ]
    }
   ],
   "source": [
    "# try to extract all the list entities\n",
    "for i in l:\n",
    "    if type(i)==tuple:\n",
    "        for j in i:\n",
    "            print(j)"
   ]
  },
  {
   "cell_type": "code",
   "execution_count": 9,
   "id": "1bc45b97",
   "metadata": {},
   "outputs": [
    {
     "name": "stdout",
     "output_type": "stream",
     "text": [
      "3\n",
      "7\n",
      "6\n",
      "8\n"
     ]
    }
   ],
   "source": [
    "#try ti extract all the numeric data it may be dict value or key\n",
    "for i in l:\n",
    "    if type(i)==dict:\n",
    "        for j in list(i.keys()):\n",
    "            if type(j)==int:\n",
    "                print(j)\n",
    "        for j in list(i.values()):\n",
    "            if type(j)==int:\n",
    "                print(j)"
   ]
  },
  {
   "cell_type": "code",
   "execution_count": 10,
   "id": "a968ce6b",
   "metadata": {},
   "outputs": [
    {
     "name": "stdout",
     "output_type": "stream",
     "text": [
      "156\n"
     ]
    }
   ],
   "source": [
    "# summaization of the numeric value in the list\n",
    "sum=0\n",
    "for i in l:\n",
    "    if type(i)==list or type(i)==tuple or type(i)==set:\n",
    "        for j in i:\n",
    "            if type(j)==int:\n",
    "                sum=sum+j\n",
    "for i in l:\n",
    "    if type(i)==dict:\n",
    "        for j in list(i.keys()):\n",
    "            if type(j)==int:\n",
    "                sum=sum+j\n",
    "        for j in list(i.values()):\n",
    "            if type(j)==int:\n",
    "                sum=sum+j\n",
    "print(sum)"
   ]
  },
  {
   "cell_type": "code",
   "execution_count": 21,
   "id": "6e3dbfeb",
   "metadata": {},
   "outputs": [
    {
     "name": "stdout",
     "output_type": "stream",
     "text": [
      "odd list [1, 3, 3, 5, 3, 5, 7, 45, 5, 23, 3, 7]   Even List [2, 4, 2, 4, 6, 4, 6, 4, 6, 8]\n"
     ]
    }
   ],
   "source": [
    "# filter all the odd and even value\n",
    "even=[]\n",
    "odd=[]\n",
    "for i in l:\n",
    "    if type(i)==list or type(i)==tuple or type(i)==set:\n",
    "        for j in i:\n",
    "            if type(j)==int:\n",
    "                if j%2==0:\n",
    "                    even.append(j)\n",
    "                else:\n",
    "                    odd.append(j)\n",
    "for i in l:\n",
    "    if type(i)==dict:\n",
    "        for j in list(i.keys()):\n",
    "            if type(j)==int:\n",
    "                if j%2==0:\n",
    "                    even.append(j)\n",
    "                else:\n",
    "                    odd.append(j)\n",
    "               \n",
    "        for j in list(i.values()):\n",
    "            if type(j)==int:\n",
    "                if j%2==0:\n",
    "                    even.append(j)\n",
    "                else:\n",
    "                     odd.append(j)\n",
    "print('odd list',odd,'  Even List',even)\n"
   ]
  },
  {
   "cell_type": "code",
   "execution_count": 23,
   "id": "5564fccf",
   "metadata": {},
   "outputs": [
    {
     "name": "stdout",
     "output_type": "stream",
     "text": [
      "ineuron\n",
      "ineuron\n"
     ]
    }
   ],
   "source": [
    "#Try to extract ineuron\n",
    "for i in l:\n",
    "    if type(i)==list or type(i)==tuple:\n",
    "        for j in i:\n",
    "            if j=='ineuron':\n",
    "                print(j)\n",
    "for i in l:\n",
    "    if type(i)== dict:\n",
    "        for j in list(i.keys()):\n",
    "            if j =='ineuron':\n",
    "                print(j)\n",
    "        for j in list(i.values()):\n",
    "            if j=='ineuron':\n",
    "                print(j)"
   ]
  },
  {
   "cell_type": "code",
   "execution_count": 24,
   "id": "9a73bb75",
   "metadata": {},
   "outputs": [
    {
     "name": "stdout",
     "output_type": "stream",
     "text": [
      "1 : 1\n",
      "2 : 2\n",
      "3 : 4\n",
      "4 : 4\n",
      "5 : 3\n",
      "6 : 3\n",
      "7 : 2\n",
      "sudh : 1\n",
      "8 : 1\n",
      "ineuron : 2\n",
      "k3 : 1\n",
      "45 : 1\n",
      "kumar : 1\n",
      "k2 : 1\n",
      "23 : 1\n",
      "data science : 1\n",
      "k1 : 1\n"
     ]
    }
   ],
   "source": [
    "# count of each element in L\n",
    "l2=[]\n",
    "for i in l:\n",
    "    if type(i)==list or type(i)==tuple or type(i)==set:\n",
    "        for j in i:\n",
    "            l2.append(j)            \n",
    "for i in l:\n",
    "    if type(i)==dict:\n",
    "        for j in list(i.keys()):\n",
    "            l2.append(j)                    \n",
    "        for j in list(i.values()):\n",
    "            l2.append(j)\n",
    "for i in set(l2):\n",
    "    print(i,':',l2.count(i))"
   ]
  },
  {
   "cell_type": "code",
   "execution_count": 25,
   "id": "c49ee767",
   "metadata": {},
   "outputs": [
    {
     "name": "stdout",
     "output_type": "stream",
     "text": [
      "5\n"
     ]
    }
   ],
   "source": [
    "# no of keys in dict \n",
    "for i in l:\n",
    "    if type(i)==dict:\n",
    "        print(len(list(i.keys())))"
   ]
  },
  {
   "cell_type": "code",
   "execution_count": 26,
   "id": "ad00992c",
   "metadata": {},
   "outputs": [
    {
     "name": "stdout",
     "output_type": "stream",
     "text": [
      "k1\n",
      "k2\n",
      "k3\n",
      "sudh\n",
      "ineuron\n",
      "kumar\n",
      "ineuron\n",
      "data science\n"
     ]
    }
   ],
   "source": [
    "#Filter al the String Data\n",
    "for i in l:\n",
    "    if type(i)==list or type(i)==tuple or type(i)==set:\n",
    "        for j in i:\n",
    "            if type(j)==str:\n",
    "                print(j)\n",
    "    if type(i)==dict:\n",
    "        for j in list(i.keys()):\n",
    "            if type(j)==str:\n",
    "                print(j)\n",
    "        for j in list(i.values()):\n",
    "            if type(j)==str:\n",
    "                print(j)"
   ]
  },
  {
   "cell_type": "code",
   "execution_count": 35,
   "id": "5071b077",
   "metadata": {},
   "outputs": [
    {
     "name": "stdout",
     "output_type": "stream",
     "text": [
      "Alphanumeric k1\n",
      "Alphanumeric k2\n",
      "Alphanumeric k3\n"
     ]
    }
   ],
   "source": [
    "#try to find the alpha numeric number\n",
    "for i in l:\n",
    "    if type(i)==list or type(i)==tuple or type(i)==set:\n",
    "        for j in i:\n",
    "            if type(j)==str:\n",
    "                for k in range(len(j)):\n",
    "                    if j[k] in ('0','1','2','3','4','5','6','7','8','9','0'):\n",
    "                        print('Alphanumeric',j)\n",
    "                        break\n",
    "    if type(i)==dict:\n",
    "        for j in list(i.keys()):\n",
    "            if type(j)==str:\n",
    "                for k in range(len(j)):\n",
    "                    if j[k] in ('0','1','2','3','4','5','6','7','8','9','0'):\n",
    "                        print('Alphanumeric',j)\n",
    "                        break\n",
    "                        \n",
    "        for j in list(i.values()):\n",
    "            if type(j)==str:\n",
    "                for k in range(len(j)):\n",
    "                    if j[k] in ('0','1','2','3','4','5','6','7','8','9','0'):\n",
    "                        print('Alphanumeric',j)\n",
    "                        break"
   ]
  },
  {
   "cell_type": "code",
   "execution_count": 77,
   "id": "58ec4f15",
   "metadata": {},
   "outputs": [
    {
     "name": "stdout",
     "output_type": "stream",
     "text": [
      "[24, 720, 2520, 20700, 1008, 1]\n"
     ]
    }
   ],
   "source": [
    "#Extra the mulplication of each dataset inside dataset\n",
    "p=[]\n",
    "for i in l:\n",
    "    if type(i)==list:\n",
    "        mul=1\n",
    "        for j in i:\n",
    "            if type(j)==int:\n",
    "                mul=j*mul\n",
    "            if type(j)==str:\n",
    "                pass\n",
    "            \n",
    "        p.append(mul)\n",
    "    elif type(i)==tuple:\n",
    "        mul=1\n",
    "        for j in i:\n",
    "            if type(j)==int:\n",
    "                mul=j*mul\n",
    "        p.append(mul)\n",
    "    elif type(i)==set:\n",
    "        mul=1\n",
    "        for j in i:\n",
    "            if type(j)==int:\n",
    "                mul=j*mul\n",
    "            else:\n",
    "                mul=''\n",
    "        p.append(mul)\n",
    "    elif type(i)==dict:\n",
    "        mul=1\n",
    "        for j in list(i.keys()):\n",
    "            if type(j)==int:\n",
    "                mul=j*mul\n",
    "            \n",
    "        for j in list(i.values()):\n",
    "            if type(j)==int:\n",
    "                mul=j*mul\n",
    "        p.append(mul)\n",
    "print(p)"
   ]
  },
  {
   "cell_type": "code",
   "execution_count": 80,
   "id": "a22c594e",
   "metadata": {},
   "outputs": [
    {
     "name": "stdout",
     "output_type": "stream",
     "text": [
      "[1, 2, 3, 4, 2, 3, 4, 5, 6, 3, 4, 5, 6, 7, 45, 4, 5, 23, 'ineuron', 'data science', 'k1', 'sudh', 'k2', 'ineuron', 'k3', 'kumar', 3, 6, 7, 8]\n"
     ]
    }
   ],
   "source": [
    "#unwrap all and create flat list\n",
    "l2=[]\n",
    "for i in l:\n",
    "    if type(i)==list or type(i)==tuple or type(i)==set:\n",
    "        for j in i:\n",
    "            l2.append(j)            \n",
    "for i in l:\n",
    "    if type(i)==dict:\n",
    "        for j in list(i.items()):\n",
    "            l2.extend(j)\n",
    "        \n",
    "print(l2)"
   ]
  },
  {
   "cell_type": "code",
   "execution_count": null,
   "id": "865875c7",
   "metadata": {},
   "outputs": [],
   "source": []
  }
 ],
 "metadata": {
  "kernelspec": {
   "display_name": "Python 3",
   "language": "python",
   "name": "python3"
  },
  "language_info": {
   "codemirror_mode": {
    "name": "ipython",
    "version": 3
   },
   "file_extension": ".py",
   "mimetype": "text/x-python",
   "name": "python",
   "nbconvert_exporter": "python",
   "pygments_lexer": "ipython3",
   "version": "3.8.8"
  }
 },
 "nbformat": 4,
 "nbformat_minor": 5
}
