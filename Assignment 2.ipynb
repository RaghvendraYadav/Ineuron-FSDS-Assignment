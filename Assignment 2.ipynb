{
 "cells": [
  {
   "cell_type": "code",
   "execution_count": 1,
   "id": "f746c0dd",
   "metadata": {},
   "outputs": [
    {
     "data": {
      "text/plain": [
       "'#1.What are the two values of the Boolean data type? How do you write them?\\n\\nAns THe Two values of Boolean data type are True and False.We use to write True if  the condition is correct and False if the condtion is not satisfied.'"
      ]
     },
     "execution_count": 1,
     "metadata": {},
     "output_type": "execute_result"
    }
   ],
   "source": [
    "'''#1.What are the two values of the Boolean data type? How do you write them?\n",
    "\n",
    "Ans THe Two values of Boolean data type are True and False.We use to write True if  the condition is correct and False if the condtion is not satisfied.'''"
   ]
  },
  {
   "cell_type": "code",
   "execution_count": 2,
   "id": "ef68c565",
   "metadata": {},
   "outputs": [
    {
     "data": {
      "text/plain": [
       "'2. What are the three different types of Boolean operators?\\nAns :- the three different types of Boolean operators are:\\n        AND,OR ,NOT '"
      ]
     },
     "execution_count": 2,
     "metadata": {},
     "output_type": "execute_result"
    }
   ],
   "source": [
    "'''2. What are the three different types of Boolean operators?\n",
    "Ans :- the three different types of Boolean operators are:\n",
    "        AND,OR ,NOT '''"
   ]
  },
  {
   "cell_type": "code",
   "execution_count": 3,
   "id": "57a0b26d",
   "metadata": {},
   "outputs": [
    {
     "data": {
      "text/plain": [
       "'\\n3. Make a list of each Boolean operators truth tables (i.e. every possible combination of Boolean\\nvalues for the operator and what it evaluate ).\\nAns Truth Table for And\\nTrue and True -  True\\nTrue and False - False\\nFalse and True - False\\nFalse and False - False\\n\\nTruth Table for OR\\nTrue or True -  True\\nTrue or False - True\\nFalse or True - True\\nFalse or False - False\\n\\nTruth table for not\\nnot True --- False\\nnot False --- True\\n'"
      ]
     },
     "execution_count": 3,
     "metadata": {},
     "output_type": "execute_result"
    }
   ],
   "source": [
    "'''\n",
    "3. Make a list of each Boolean operators truth tables (i.e. every possible combination of Boolean\n",
    "values for the operator and what it evaluate ).\n",
    "Ans Truth Table for And\n",
    "True and True -  True\n",
    "True and False - False\n",
    "False and True - False\n",
    "False and False - False\n",
    "\n",
    "Truth Table for OR\n",
    "True or True -  True\n",
    "True or False - True\n",
    "False or True - True\n",
    "False or False - False\n",
    "\n",
    "Truth table for not\n",
    "not True --- False\n",
    "not False --- True\n",
    "'''"
   ]
  },
  {
   "cell_type": "code",
   "execution_count": 6,
   "id": "52c85d67",
   "metadata": {},
   "outputs": [
    {
     "data": {
      "text/plain": [
       "'\\n4. What are the values of the following expressions?\\n(5 > 4) and (3 == 5)--- False\\nnot (5 > 4)--- False\\n(5 > 4) or (3 == 5)--- True\\nnot ((5 > 4) or (3 == 5))--- False\\n(True and True) and (True == False)---- False\\n(not False) or (not True)---True\\n\\n\\n\\n\\n'"
      ]
     },
     "execution_count": 6,
     "metadata": {},
     "output_type": "execute_result"
    }
   ],
   "source": [
    "'''\n",
    "4. What are the values of the following expressions?\n",
    "(5 > 4) and (3 == 5)--- False\n",
    "not (5 > 4)--- False\n",
    "(5 > 4) or (3 == 5)--- True\n",
    "not ((5 > 4) or (3 == 5))--- False\n",
    "(True and True) and (True == False)---- False\n",
    "(not False) or (not True)---True\n",
    "\n",
    "\n",
    "\n",
    "\n",
    "'''\n"
   ]
  },
  {
   "cell_type": "code",
   "execution_count": 7,
   "id": "976a6c29",
   "metadata": {},
   "outputs": [
    {
     "data": {
      "text/plain": [
       "'\\n5. What are the six comparison operators?\\nAns5:-  <,<=,>,>=,!=,==are the six comparison operators\\n'"
      ]
     },
     "execution_count": 7,
     "metadata": {},
     "output_type": "execute_result"
    }
   ],
   "source": [
    "'''\n",
    "5. What are the six comparison operators?\n",
    "Ans5:-  <,<=,>,>=,!=,==are the six comparison operators\n",
    "'''"
   ]
  },
  {
   "cell_type": "code",
   "execution_count": 8,
   "id": "ce4918d2",
   "metadata": {},
   "outputs": [
    {
     "data": {
      "text/plain": [
       "'\\n6. How do you tell the difference between the equal to and assignment operators?Describe a\\ncondition and when you would use one.\\nAns6:- The equal is used to compare the values if the value is equal or not acordingly it will return True and False.\\nWhereas Assignment operators are use to assign a value to the particular variable.\\nFor eg \\na=10\\nhere we have assign the value 10 to variable a \\n a==10\\n Here we are comparing if the value of  a is equal to 10 or not if a is 10 then it is truwe otherwise it will return false\\n \\n\\n'"
      ]
     },
     "execution_count": 8,
     "metadata": {},
     "output_type": "execute_result"
    }
   ],
   "source": [
    "'''\n",
    "6. How do you tell the difference between the equal to and assignment operators?Describe a\n",
    "condition and when you would use one.\n",
    "Ans6:- The equal is used to compare the values if the value is equal or not acordingly it will return True and False.\n",
    "Whereas Assignment operators are use to assign a value to the particular variable.\n",
    "For eg \n",
    "a=10\n",
    "here we have assign the value 10 to variable a \n",
    " a==10\n",
    " Here we are comparing if the value of  a is equal to 10 or not if a is 10 then it is truwe otherwise it will return false\n",
    " \n",
    "\n",
    "'''\n",
    "\n"
   ]
  },
  {
   "cell_type": "code",
   "execution_count": 9,
   "id": "551bafef",
   "metadata": {},
   "outputs": [
    {
     "name": "stdout",
     "output_type": "stream",
     "text": [
      "ham\n",
      "spam\n",
      "spam\n"
     ]
    }
   ],
   "source": [
    "'''\n",
    "7. Identify the three blocks in this code:\n",
    "spam = 0\n",
    "if spam == 10:\n",
    "print('eggs')\n",
    "if spam > 5:\n",
    "print('bacon')\n",
    "else:\n",
    "print('ham')\n",
    "print('spam')\n",
    "print('spam')\n",
    "\n",
    "Ans\n",
    "'''\n",
    "spam = 0\n",
    "if spam == 10: \n",
    "    print('eggs')#first block\n",
    "if spam > 5:#second Block\n",
    "    print('bacon')\n",
    "else:#third Block\n",
    "    print('ham')\n",
    "    print('spam')\n",
    "    print('spam')"
   ]
  },
  {
   "cell_type": "code",
   "execution_count": 13,
   "id": "bdf80b7d",
   "metadata": {},
   "outputs": [
    {
     "name": "stdout",
     "output_type": "stream",
     "text": [
      "Enter the value of spam3\n",
      "Greetings!\n"
     ]
    }
   ],
   "source": [
    "'''\n",
    "8. Write code that prints Hello if 1 is stored in spam, prints Howdy if 2 is stored in spam, and prints\n",
    "Greetings! if anything else is stored in spam.\n",
    "'''\n",
    "spam=int(input('Enter the value of spam'))\n",
    "if spam==1:\n",
    "    print('Hello')\n",
    "elif spam==2:\n",
    "    print('Howdy')\n",
    "else:\n",
    "    print('Greetings!')\n"
   ]
  },
  {
   "cell_type": "code",
   "execution_count": 14,
   "id": "32a825ab",
   "metadata": {},
   "outputs": [
    {
     "data": {
      "text/plain": [
       "'\\n9.If your programme is stuck in an endless loop, what keys you’ll press?\\nAns:- Ctrl+C\\n'"
      ]
     },
     "execution_count": 14,
     "metadata": {},
     "output_type": "execute_result"
    }
   ],
   "source": [
    "'''\n",
    "9.If your programme is stuck in an endless loop, what keys you’ll press?\n",
    "Ans:- Ctrl+C\n",
    "'''"
   ]
  },
  {
   "cell_type": "code",
   "execution_count": 15,
   "id": "1d17a630",
   "metadata": {},
   "outputs": [
    {
     "data": {
      "text/plain": [
       "'\\nAns:- The main difference between both the statements is that when break keyword comes, it terminates the execution of the current loop and passes the control over the next loop or main body, whereas when continue keyword is encountered, it skips the current iteration and executes the very next iteration in the loop. \\nIn simple words break statement leaves a loop, whereas the continue statement jumps to the next iteration.  \\n'"
      ]
     },
     "execution_count": 15,
     "metadata": {},
     "output_type": "execute_result"
    }
   ],
   "source": [
    "#10. How can you tell the difference between break and continue?\n",
    "'''\n",
    "Ans:- The main difference between both the statements is that when break keyword comes, it terminates the execution of the current loop and passes the control over the next loop or main body, whereas when continue keyword is encountered, it skips the current iteration and executes the very next iteration in the loop. \n",
    "In simple words break statement leaves a loop, whereas the continue statement jumps to the next iteration.  \n",
    "'''"
   ]
  },
  {
   "cell_type": "code",
   "execution_count": 18,
   "id": "40a05e32",
   "metadata": {},
   "outputs": [
    {
     "name": "stdout",
     "output_type": "stream",
     "text": [
      "0\n",
      "1\n",
      "2\n",
      "3\n",
      "4\n",
      "5\n",
      "6\n",
      "7\n",
      "8\n",
      "9\n"
     ]
    }
   ],
   "source": [
    "#11. In a for loop, what is the difference between range(10), range(0, 10), and range(0, 10, 1)?\n",
    "Ans:-''' The function of range(10),range(0,10) and range(0,10,1) is same only.They all will range from 0 till 9 .\n",
    "    In range(10) lower bound is not mentioned but it will automatically by default take 0 as the lower bound,\n",
    "    In range(0,10) lower and upper bound both are mentioned and print range from 0 till 9 it will have a jump of one by default if no jump is mentioned \n",
    "    whereas in range(0,10,1) lower ,upper and jump is mentioned and have range from 0 till 9 and 10 is excluded.\n",
    "    Generally all the threee are same and works the same.'''"
   ]
  },
  {
   "cell_type": "code",
   "execution_count": 19,
   "id": "01efac55",
   "metadata": {},
   "outputs": [
    {
     "name": "stdout",
     "output_type": "stream",
     "text": [
      "program using for loop\n",
      "1\n",
      "2\n",
      "3\n",
      "4\n",
      "5\n",
      "6\n",
      "7\n",
      "8\n",
      "9\n",
      "10\n",
      "program using while loop\n",
      "1\n",
      "2\n",
      "3\n",
      "4\n",
      "5\n",
      "6\n",
      "7\n",
      "8\n",
      "9\n",
      "10\n"
     ]
    }
   ],
   "source": [
    "'''\n",
    "12. Write a short program that prints the numbers 1 to 10 using a for loop. Then write an equivalent\n",
    "program that prints the numbers 1 to 10 using a while loop.\\\n",
    "Ans:- \n",
    "'''\n",
    "print('program using for loop')\n",
    "for i in range(1,11):\n",
    "    print(i)\n",
    "\n",
    "print('program using while loop')\n",
    "i=1\n",
    "while(i<11):\n",
    "    print(i)\n",
    "    i+=1"
   ]
  },
  {
   "cell_type": "code",
   "execution_count": null,
   "id": "ec321408",
   "metadata": {},
   "outputs": [],
   "source": [
    "'''13. If you had a function named bacon() inside a module named spam, how would you call it after\n",
    "importing spam?\n",
    "Ans:\n",
    "import spam\n",
    "spam.bacon()\n",
    "\n",
    "'''\n"
   ]
  }
 ],
 "metadata": {
  "kernelspec": {
   "display_name": "Python 3",
   "language": "python",
   "name": "python3"
  },
  "language_info": {
   "codemirror_mode": {
    "name": "ipython",
    "version": 3
   },
   "file_extension": ".py",
   "mimetype": "text/x-python",
   "name": "python",
   "nbconvert_exporter": "python",
   "pygments_lexer": "ipython3",
   "version": "3.8.8"
  }
 },
 "nbformat": 4,
 "nbformat_minor": 5
}
